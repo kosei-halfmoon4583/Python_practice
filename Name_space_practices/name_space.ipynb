{
 "cells": [
  {
   "cell_type": "markdown",
   "id": "ec1d07ee-a6c9-420b-8322-1f938993862a",
   "metadata": {},
   "source": [
    "#### Pythonの名前空間について\n",
    "1.名前空間  \n",
    "2.スコープ  \n",
    "3.ビルトインスコープ  \n",
    "4.グローバルスコープ  \n",
    "5.ローカルスコープ  \n",
    "6.global文  \n",
    "7.nolocal文  \n",
    "\n",
    "1.名前空間  \n",
    "　名前空間とは、名前とオブジェクトを対応付けることです。ここでいう名前とは変数名や関数名のことです。  \n",
    "　対応づけるとはその名前を使用してモジュールやクラス、関数などに直接アクセス可能にすることです。  \n",
    "　ほとんどの名前空間はキー（名前）、値に（オブジェクト）を持つ辞書で対応付けられています。  \n",
    "　また組み込み関数のglobals関数を使うと、現在のモジュールの名前空間を取得できます。  "
   ]
  },
  {
   "cell_type": "code",
   "execution_count": 1,
   "id": "8add1a89-a5c4-46bc-b467-44f043a4b9c6",
   "metadata": {},
   "outputs": [
    {
     "name": "stdout",
     "output_type": "stream",
     "text": [
      "{'__name__': '__main__', '__doc__': 'Automatically created module for IPython interactive environment', '__package__': None, '__loader__': None, '__spec__': None, '__builtin__': <module 'builtins' (built-in)>, '__builtins__': <module 'builtins' (built-in)>, '_ih': ['', 'a = 1\\n\\ndef func():\\n    b = 2\\n\\nprint(globals())'], '_oh': {}, '_dh': ['/Users/watanuki/PycharmProjects/python_training'], 'In': ['', 'a = 1\\n\\ndef func():\\n    b = 2\\n\\nprint(globals())'], 'Out': {}, 'get_ipython': <bound method InteractiveShell.get_ipython of <ipykernel.zmqshell.ZMQInteractiveShell object at 0x7f7fd6807690>>, 'exit': <IPython.core.autocall.ZMQExitAutocall object at 0x7f7fd683d390>, 'quit': <IPython.core.autocall.ZMQExitAutocall object at 0x7f7fd683d390>, '_': '', '__': '', '___': '', '_i': '', '_ii': '', '_iii': '', '_i1': 'a = 1\\n\\ndef func():\\n    b = 2\\n\\nprint(globals())', 'a': 1, 'func': <function func at 0x7f7fd6c07d40>}\n"
     ]
    }
   ],
   "source": [
    "a = 1\n",
    "\n",
    "def func():\n",
    "    b = 2\n",
    "\n",
    "# globals()関数で名前空間を表示してみる\n",
    "print(globals())"
   ]
  },
  {
   "cell_type": "markdown",
   "id": "34285fd4-cd0b-4882-8f8f-787039714ba4",
   "metadata": {},
   "source": [
    "2.スコープ  \n",
    "　スコープとは名前空間に対応づけられた名前を直接参照できる領域のことです。名前の有効領域とも言います。  \n",
    "　例えば関数の中で定義された変数にはその関数の外から参照することはできません。  \n",
    "　関数内関数も外部から直接変数を参照できません。  \n",
    "　このように名前空間の中の名前には直接参照できる領域があり、その領域のことをスコープと言います。  \n",
    "  \n",
    "  Pythonのスコープには大きく分けて3種類あり、外側から以下のように定義されています。  \n",
    "   ビルトインスコープ    \n",
    "   グローバルスコープ    \n",
    "   ローカルスコープ    \n",
    "  Pythonでは内側のスコープから外側のスコープの名前は参照できますが、外側のスコープから内側のスコープの名前は参照できません。 \n",
    "    \n",
    "  🔹ビルトインスコープ  \n",
    "   ビルトインスコープは、一番外側のスコープです。組込み定数や組込み関数など、定義したりインポートしなくても使用できる定数や関数が対応づけられています。  \n",
    "   例えばTrue,False,Noneなどの組込み定数や、print関数,max関数などの組込み関数はプログラムのどの領域からも使用できます。  \n",
    "   すべてのプログラムがビルトインスコープの中に入るので、コードを書くときにあまり意識する必要はありません。  \n",
    "     \n",
    "  🔹グローバルスコープ  \n",
    "   グローバルスコープはビルトインスコープの内側のスコープで一つのモジュール全体を含みます。そのためグローバルスコープはモジュールスコープとも言います。  \n",
    "   グローバルスコープの名前には、そのモジュール内のどこからでも参照できます。例えば関数やクラスの外で定義された変数は、そのPythonファイル内のどこかrでも参照できます。  \n",
    "     \n",
    "  🔹ローカルスコープ  \n",
    "  ローカルスコープはグローバルスコープの内側のスコープで、関数やクラスの中の領域です。ローカルスコープの名前には、ローカルスコープの中かしか参照できません。  \n",
    "  例えば関数やクラスの中で定義された変数は、その関数やクラスの中かしか参照できません。  \n"
   ]
  },
  {
   "cell_type": "code",
   "execution_count": 4,
   "id": "703e38e7-5325-43d2-84e5-9e2351599310",
   "metadata": {},
   "outputs": [],
   "source": [
    "# 2.スコープ\n",
    "def func():\n",
    "    b = 2\n",
    "\n",
    "# 関数の外から、関数内に定義した変数にアクセスしようとするとエラーになる\n",
    "# error: NameError: name 'b' is not defined\n",
    "print(b)"
   ]
  },
  {
   "cell_type": "code",
   "execution_count": 6,
   "id": "fce78439-3332-4562-8c60-98e183efd345",
   "metadata": {},
   "outputs": [
    {
     "name": "stdout",
     "output_type": "stream",
     "text": [
      "\n"
     ]
    }
   ],
   "source": [
    "# 3.ビルトインスコープ\n",
    "\n",
    "# 組込み定数\n",
    "True\n",
    "False\n",
    "None\n",
    "\n",
    "# 組み込み関数\n",
    "print()\n",
    "max()"
   ]
  },
  {
   "cell_type": "code",
   "execution_count": 7,
   "id": "99ad4c25-11da-455c-ae3d-b9042069e128",
   "metadata": {},
   "outputs": [
    {
     "name": "stdout",
     "output_type": "stream",
     "text": [
      "1\n",
      "1\n"
     ]
    }
   ],
   "source": [
    "# 4.グローバルスコープ\n",
    "\n",
    "# グローバル変数の'a'は、関数(func())の中からでも、外からでも参照できます。\n",
    "a = 1\n",
    "\n",
    "def func():\n",
    "    b = 2\n",
    "    print(a)\n",
    "\n",
    "print(a)\n",
    "func()"
   ]
  },
  {
   "cell_type": "code",
   "execution_count": 9,
   "id": "79d98202-2c66-4f40-af00-e6536578b68b",
   "metadata": {},
   "outputs": [
    {
     "name": "stdout",
     "output_type": "stream",
     "text": [
      "1\n"
     ]
    }
   ],
   "source": [
    "# 5.ローカルスコープ\n",
    "\n",
    "def func():\n",
    "    a = 1\n",
    "    print(a)\n",
    "\n",
    "func()\n",
    "\n",
    "# ローカルスコープ(func())の外側からprint関数で変数'a’を表示するとエラーになります。\n",
    "# error: NameError: name 'a' is not defined\n",
    "# print(a)"
   ]
  },
  {
   "cell_type": "markdown",
   "id": "c3a64ed7-9c72-4788-aca3-6341a7bfe7bf",
   "metadata": {},
   "source": [
    "6.global文  \n",
    " これまで見てきたように、ローカルスコープで定義した変数は、ローカルスコープでしか参照できませんでした。  \n",
    " global文を使って変数を宣言すると、ローカルスコープで定義した変数をグローバル変数として定義できます。  "
   ]
  },
  {
   "cell_type": "code",
   "execution_count": 10,
   "id": "8ce17c95-2d44-44a8-b0a4-02c307fc511b",
   "metadata": {},
   "outputs": [
    {
     "name": "stdout",
     "output_type": "stream",
     "text": [
      "2\n",
      "1\n",
      "2\n"
     ]
    }
   ],
   "source": [
    "# 6.global文\n",
    "\n",
    "a = 0\n",
    "\n",
    "def func1():\n",
    "    a = 1\n",
    "    \n",
    "    def func2():\n",
    "        global a\n",
    "        a = 2\n",
    "        print(a)\n",
    "        \n",
    "    func2()\n",
    "    print(a)\n",
    "\n",
    "func1()\n",
    "print(a)"
   ]
  },
  {
   "cell_type": "markdown",
   "id": "12b334f7-6993-43f0-ae73-79ecd385e137",
   "metadata": {},
   "source": [
    "7.nonlocal文  \n",
    "　nonlocal文を使って変数を宣言すると、宣言したスコープより一つ外側のスコープのヘンスとして定義できます。ただし一つ外側のスコープがグローバススコープの場合は使用できません。  "
   ]
  },
  {
   "cell_type": "code",
   "execution_count": 12,
   "id": "270bc57e-d308-442e-b9ad-c2e32db56b1f",
   "metadata": {},
   "outputs": [
    {
     "name": "stdout",
     "output_type": "stream",
     "text": [
      "2\n",
      "2\n",
      "0\n"
     ]
    }
   ],
   "source": [
    "# 7.nonlocal文\n",
    "\n",
    "a = 0\n",
    "\n",
    "def func1():\n",
    "    a = 1\n",
    "    \n",
    "    def func2():\n",
    "        nonlocal a\n",
    "        a = 2\n",
    "        print(a)\n",
    "        \n",
    "    func2()\n",
    "    print(a)\n",
    "    \n",
    "func1()\n",
    "print(a)\n"
   ]
  }
 ],
 "metadata": {
  "kernelspec": {
   "display_name": "Python 3 (ipykernel)",
   "language": "python",
   "name": "python3"
  },
  "language_info": {
   "codemirror_mode": {
    "name": "ipython",
    "version": 3
   },
   "file_extension": ".py",
   "mimetype": "text/x-python",
   "name": "python",
   "nbconvert_exporter": "python",
   "pygments_lexer": "ipython3",
   "version": "3.7.12"
  }
 },
 "nbformat": 4,
 "nbformat_minor": 5
}
