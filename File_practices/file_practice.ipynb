{
 "cells": [
  {
   "cell_type": "markdown",
   "id": "4814c0a9-7c86-4949-9782-1ab16833387c",
   "metadata": {},
   "source": [
    "#### Pythonのファイル操作\n",
    "\n",
    "1.ファイルの種類  \n",
    "2.ファイルの作成・書き込み  \n",
    "3.ファイルの読み込み  \n",
    "4.ファイの読み込み+書き込み   \n",
    "5.CSVファイルの作成・書き込み・読み込み  \n",
    "6.ファイルの圧縮・展開  \n",
    "  \n",
    "1.ファイルの種類  \n",
    "ファイルには大きく分けてテキストファイルとバイナリファイルがあります。テキストファイルは人間が理解できるように文字コードを使って文字で出力できるファイルです。一方バイナリファイルはコンピュータが理解できるようにデータを0と1で表記したファイルです。バイナリファイルは人間には理解できず文字で出力できません。画像データや音声データなどテキストエディタで正しく表示できないものはすべてバイナリファイルです。なおテキストファイルもコンピュータ内部では0と1に変換されているのでバイナリファイルの一部ですが、ここでは区別します。\n",
    "\n",
    "2.ファイルの作成・書き込み\n",
    "　open関数を使うとファイルの作成や書き込みができます。"
   ]
  },
  {
   "cell_type": "code",
   "execution_count": null,
   "id": "1f748c56-d00b-4e5d-b861-161ab2e7b13e",
   "metadata": {},
   "outputs": [],
   "source": [
    "# 2.ファイルの作成・書き込み\n",
    "\n",
    "f = open(\"test.txt\",\"w\")\n",
    "f.write(\"test\")\n",
    "f.close()"
   ]
  },
  {
   "cell_type": "code",
   "execution_count": null,
   "id": "08a8d04a-4370-4243-ba6c-0d15bb2de81e",
   "metadata": {},
   "outputs": [],
   "source": [
    "# 2.ファイルの作成・書き込み\n",
    "# open関数をwith文と一緒に使うと、最後にcloseメソッドを書く必要がなくなります。\n",
    "\n",
    "with open(\"test.txt\",\"w\") as f:\n",
    "    f.write(\"overwrite\")\n",
    "\n",
    "# また、'''(トリプルクォート)を使うと、改行を含むテキストをそのまま書き込みことができます。\n",
    "\n",
    "text = '''\\\n",
    "apple\n",
    "grape\n",
    "orange\n",
    "banana\n",
    "'''\n",
    "with open(\"test2.txt\",\"w\") as f:\n",
    "    f.write(text)\n",
    "\n",
    "# open関数の第二引数に”w”を渡すとファイルが上書きされました、\"a\"(append mode)を渡すと末尾にテキストが追加されます。\n",
    "\n",
    "with open(\"test2.txt\",\"a\") as f:\n",
    "    f.write(\"peach\\n\")"
   ]
  },
  {
   "cell_type": "code",
   "execution_count": null,
   "id": "0cf2178e-3659-421c-b654-12dd9cfe6462",
   "metadata": {},
   "outputs": [],
   "source": [
    "# 3.ファイルの読み込み\n",
    "\n",
    "with open(\"test2.txt\",\"r\") as f:\n",
    "    print(f.read())\n",
    "\n",
    "# 最初の１行だけ読み込む場合は？\n",
    "with open(\"test2.txt\",\"r\") as f:\n",
    "    print(f.readline())\n",
    "\n",
    "# for文と一緒に使う場合は？(※任意の行数だけ読み込む場合）\n",
    "with open(\"test2.txt\",\"r\") as f:\n",
    "    for i in range(3):\n",
    "        print(f.readline(),end=\"\")"
   ]
  },
  {
   "cell_type": "code",
   "execution_count": null,
   "id": "80698790-e74c-4b52-a6b8-164190dfae76",
   "metadata": {},
   "outputs": [],
   "source": [
    "# 4.ファイルの読み込み+書き込み\n",
    "\n",
    "# \"r+\":ファイルの読み込み+書き込みモード\n",
    "with open(\"test2.txt\",\"r+\") as f:\n",
    "    print(f.read())\n",
    "    f.write(\"melon\\n\")\n",
    "\n",
    "# 次に'.read()メソッドを使わないでファイルにmelonを書き込んでみましょう。\n",
    "with open(\"test2.txt\",\"r+\") as f:\n",
    "    f.write(\"melon\\n\")\n",
    "\n",
    "# 結果は、test2.txtファイルの最初の行が'apple'から'melon'に書き換えられています。\n",
    "# これは.read()メソッドを使っていないため、ファイルの最初から書き込みが開始されるためです。\n",
    "\n",
    "# ではテキストの途中から書き込みたい場合は、.seek()メソッドを使います。\n",
    "with open(\"test2.txt\",\"r+\") as f:\n",
    "    f.seek(6)\n",
    "    f.write(\"melon\\n\")"
   ]
  },
  {
   "cell_type": "code",
   "execution_count": null,
   "id": "d7940ec3-8d5b-40cc-b5b6-db1ec73d8102",
   "metadata": {},
   "outputs": [],
   "source": [
    "# 4.ファイルの読み込み+書き込み\n",
    "\n",
    "# 次は\"w+\"モードを使用します、\"w+\"モードはファイルの書き込みに加えて読み込みもできるモードです。\n",
    "# 基本は書き込みモードなのでファイルが存在しない場合は、新たにファイルを作成し、ファイルが存在する場合は上書きされます。\n",
    "\n",
    "fruits = '''\\\n",
    "apple\n",
    "grape\n",
    "orange\n",
    "banana\n",
    "'''\n",
    "\n",
    "with open(\"test3.txt\",\"w+\") as f:\n",
    "    f.write(fruits)\n",
    "    f.seek(0)\n",
    "    print(f.read())"
   ]
  },
  {
   "cell_type": "code",
   "execution_count": null,
   "id": "8b1634e1-97bb-468a-a5ad-1d27e24631e6",
   "metadata": {},
   "outputs": [],
   "source": [
    "# 4.ファイルの読み込み+書き込み\n",
    "\n",
    "# 最後に\"a+\"モードについて説明します。\n",
    "# \"a+\"はファイルの末尾にテキストを追加できます。さらに読み込みもできるモードです。\n",
    "# open関数を使って先ほど作成したtest3.txtを開きます。\n",
    "\n",
    "with open(\"test3.txt\",\"a+\") as f:\n",
    "    f.write(\"peach\\n\")\n",
    "    f.seek(0)\n",
    "    print(f.read())"
   ]
  },
  {
   "cell_type": "code",
   "execution_count": null,
   "id": "915b7f61-4149-4ff4-a20f-9c30b354945b",
   "metadata": {},
   "outputs": [],
   "source": [
    "# 5.CSVファイルの作成・書き込み・読み込み\n",
    "\n",
    "import csv\n",
    "\n",
    "with open(\"test.csv\",\"w\") as f:\n",
    "    writer = csv.writer(f)\n",
    "    writer.writerow([\"Yamada\", 180,70])\n",
    "\n",
    "# writerow()メソッドは１行しか書き込むことができません。writerows()メソッドを使うと複数行書き込むことができます。\n",
    "with open(\"test.csv\",'a') as f:\n",
    "    writer = csv.writer(f)\n",
    "    writer.writerows([[\"Sato\", 160, 50],[\"Suzuki\",170,60],[\"Takahashi\",190,90],[\"Yamaguchi\",150,40]])\n",
    "    "
   ]
  },
  {
   "cell_type": "code",
   "execution_count": null,
   "id": "4edff2ec-2b92-4284-8da7-7d28d4769145",
   "metadata": {},
   "outputs": [],
   "source": [
    "# 5.CSVファイルの作成・書き込み・読み込み\n",
    "\n",
    "# 次にCSVファイルを読み込みます。\n",
    "\n",
    "import csv\n",
    "\n",
    "with open(\"test.csv\", 'r') as f:\n",
    "    reader = csv.reader(f)\n",
    "    for row in reader:\n",
    "        print(row)\n",
    "\n",
    "# indexを使用してデータの一部を取り出すこともできます。\n",
    "with open(\"test.csv\", 'r') as f:\n",
    "    reader = csv.reader(f)\n",
    "    for row in reader:\n",
    "        print(row[0])"
   ]
  },
  {
   "cell_type": "code",
   "execution_count": null,
   "id": "3ef7377d-11f2-4608-bb8d-727f3f4ca570",
   "metadata": {},
   "outputs": [],
   "source": [
    "# 6.ファイルの圧縮・展開\n",
    "\n",
    "import zipfile\n",
    "\n",
    "with zipfile.ZipFile(\"test.zip\",\"w\") as zf:\n",
    "    zf.write(\"test.txt\")\n",
    "    zf.write(\"test.csv\")"
   ]
  },
  {
   "cell_type": "code",
   "execution_count": null,
   "id": "42ddb251-2c4f-44bb-b9b7-97bb7eaa74e2",
   "metadata": {},
   "outputs": [],
   "source": [
    "# 6.ファイルの圧縮・展開\n",
    "\n",
    "'''\n",
    "ZipFileインスタンスの引数:compressionに圧縮方式を指定すると、指定した圧縮方式でファイル圧縮ができます。\n",
    "圧縮方式の種類\n",
    " ZIP_STORED (*1)Default値,複数のファイルをまとめるだけで容量圧縮はしない\n",
    " ZIP_DEFLATED (*2)引数:compresslevelに圧縮レベルを指定できる\n",
    " ZIP_BZIP2 (*2)引数:compresslevelに圧縮レベルを指定できる\n",
    " ZIP_LZMA\n",
    " (*2)圧縮レベル compresslevel=1〜9, 1:速い(低い), ９:遅い(高い)\n",
    "　　　　　　　　　　1〜9\n",
    "　　　圧縮スピード 速　遅\n",
    "　　　圧縮レベル　 低　高\n",
    "'''\n",
    "\n",
    "import zipfile\n",
    "\n",
    "with zipfile.ZipFile(\"test2.zip\",\"w\",\n",
    "                     compression=zipfile.ZIP_DEFLATED,\n",
    "                     compresslevel=9) as zf:\n",
    "    zf.write(\"test.txt\")\n",
    "    zf.write(\"test.csv\")"
   ]
  },
  {
   "cell_type": "code",
   "execution_count": null,
   "id": "6e38d616-cf91-457e-ba25-ebd4b083d53b",
   "metadata": {},
   "outputs": [],
   "source": [
    "# 6.ファイルの圧縮・展開\n",
    "\n",
    "# zipfile.ZipFileメソッドの第二引数に\"a\"を指定すると、作成済みzipファイルにファイルを追加できます。\n",
    "with zipfile.ZipFile(\"test2.zip\",\"a\",\n",
    "                     compression=zipfile.ZIP_DEFLATED,\n",
    "                     compresslevel=9) as zf:\n",
    "    zf.write(\"test2.txt\")"
   ]
  },
  {
   "cell_type": "code",
   "execution_count": null,
   "id": "e6bb2a7f-5d2c-41b5-b05f-6d5a30168123",
   "metadata": {},
   "outputs": [],
   "source": [
    "# 6.ファイルの圧縮・展開\n",
    "\n",
    "import zipfile\n",
    "\n",
    "with zipfile.ZipFile(\"test2.zip\",\"r\") as zf:\n",
    "    zf.extractall(\"sample\")"
   ]
  }
 ],
 "metadata": {
  "kernelspec": {
   "display_name": "Python 3 (ipykernel)",
   "language": "python",
   "name": "python3"
  },
  "language_info": {
   "codemirror_mode": {
    "name": "ipython",
    "version": 3
   },
   "file_extension": ".py",
   "mimetype": "text/x-python",
   "name": "python",
   "nbconvert_exporter": "python",
   "pygments_lexer": "ipython3",
   "version": "3.7.12"
  }
 },
 "nbformat": 4,
 "nbformat_minor": 5
}
