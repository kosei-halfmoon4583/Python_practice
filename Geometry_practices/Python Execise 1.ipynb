{
 "cells": [
  {
   "cell_type": "markdown",
   "metadata": {},
   "source": [
    "## 演習問題（60分）\n",
    "\n",
    "**問題**\n",
    "1000までの＊＊素数＊＊を表示するプログラムを書いてください。  \n",
    "  \n",
    "素数：1,2,3,5,7, ...（自分自身と、１以外で割り切れない整数）\n",
    "  \n",
    "・アルゴリズムを文章で書く  \n",
    "・コードを書く->まず動く->リファクタリング  　　　　"
   ]
  },
  {
   "cell_type": "markdown",
   "metadata": {},
   "source": [
    "**解答**  \n",
    "アルゴリズム  \n",
    "    -例えば10のとき、2,3,4,5,6,7,8,9で割り算して、あまりをチェックする。    \n",
    "    -もし一つでも余りが０となっていれば、割り切れているので、素数ではない。    \n",
    "    -全て余りが０でなければ素数である。  "
   ]
  },
  {
   "cell_type": "markdown",
   "metadata": {},
   "source": [
    "-素数を格納するnumbersというからのリストで初期化する  \n",
    "-iを1〜10000まで繰り返す  \n",
    "    - 素数判定フラグをTrueに初期化する\n",
    "    - jを2,..., i-1の数値までで割り切れたら、フラグをFalseにセットする。\n",
    "    - iより小さな全ての値（1は除く)で計算して、フラグがTrueのままであれば素数と判定できる。\n",
    "    -素数であればnumbersに追加する"
   ]
  },
  {
   "cell_type": "code",
   "execution_count": null,
   "metadata": {
    "tags": []
   },
   "outputs": [],
   "source": [
    "# 空のリストの初期化\n",
    "numbers = []\n",
    "\n",
    "# 繰り返し\n",
    "for i in range(1,11):\n",
    "    flag = True # 素数判定フラグ\n",
    "    # 割って余りの確認\n",
    "    for j in range(2,i):\n",
    "        if i % j == 0:\n",
    "            flag = False\n",
    "    # 素数の場合\n",
    "    if flag == True:\n",
    "        numbers.append(i)"
   ]
  },
  {
   "cell_type": "code",
   "execution_count": null,
   "metadata": {},
   "outputs": [],
   "source": [
    "%%time\n",
    "def get_prime_numbers(max_val):\n",
    "    # 空のリストの初期化\n",
    "    numbers = []\n",
    "\n",
    "    # 繰り返し\n",
    "    for i in range(1, max_val + 1):\n",
    "        flag = True # 素数判定フラグ\n",
    "        # 割って余りの確認\n",
    "        for j in range(2,i):\n",
    "            if i % j == 0:\n",
    "                flag = False\n",
    "        # 素数の場合\n",
    "        if flag == True:\n",
    "            numbers.append(i)\n",
    "    \n",
    "    return numbers"
   ]
  },
  {
   "cell_type": "code",
   "execution_count": null,
   "metadata": {},
   "outputs": [],
   "source": [
    "%%time\n",
    "numbers = get_prime_numbers(10)\n",
    "print(numbers)"
   ]
  },
  {
   "cell_type": "code",
   "execution_count": null,
   "metadata": {},
   "outputs": [],
   "source": [
    "%%time\n",
    "numbers = get_prime_numbers(100)\n",
    "print(numbers)"
   ]
  },
  {
   "cell_type": "code",
   "execution_count": null,
   "metadata": {},
   "outputs": [],
   "source": [
    "%%time\n",
    "numbers = get_prime_numbers(1000)\n",
    "print(numbers)"
   ]
  },
  {
   "cell_type": "code",
   "execution_count": null,
   "metadata": {},
   "outputs": [],
   "source": [
    "%%time\n",
    "numbers = get_prime_numbers(10000)\n",
    "print(numbers)"
   ]
  },
  {
   "cell_type": "markdown",
   "metadata": {},
   "source": [
    "**計算量（オーダー）  \n",
    "$n = 10$\n",
    "\n",
    "- $O(n)$  <-10倍すると、計算量も10倍になる  \n",
    "- $O(n^2)$  <- 10倍すると、計算量が100倍になる    \n",
    "- $O(n^3)$  <- 10倍すると、計算量が1000倍になる  "
   ]
  },
  {
   "cell_type": "code",
   "execution_count": null,
   "metadata": {
    "tags": []
   },
   "outputs": [],
   "source": [
    "%matplotlib inline\n",
    "import matplotlib.pyplot as plt"
   ]
  },
  {
   "cell_type": "code",
   "execution_count": null,
   "metadata": {},
   "outputs": [],
   "source": [
    "# max_vals = [10,100,1000,10000]\n",
    "# max_valsをlog対数変換する（matplotを見やすくするため）\n",
    "# 片対数グラフ\n",
    "max_vals = [1,2,3,4]\n",
    "times = [57.9*1e-6, 358.0*1e-6,  27.2*1e-3, 2.55]\n",
    "\n",
    "# plt.scatter(max_vals, times)\n",
    "plt.plot(max_vals,times)\n",
    "\n",
    "z = 1992 + 11922\n",
    "print(z)"
   ]
  },
  {
   "cell_type": "markdown",
   "metadata": {},
   "source": [
    "**プログラムの高速化  \n",
    "  \n",
    "例えば値が10の時、2で割り算して余りが０になった時点で、既に素数ではない(フラグ=False)ということが判明しているので、その後の3,4,5,6,7,8,9のいずれの値でも割り算する必要はなくなる。\n",
    "従って、素数を判定する仕様を以下のように変更する。\n",
    "\n",
    "-素数を格納するnumbersというからのリストで初期化する\n",
    "-iを1〜10000まで繰り返す\n",
    "\n",
    "- 素数判定フラグをTrueに初期化する\n",
    "- jを2,..., i-1の数値までで割り切れたら、フラグをFalseにセットして、その時点でforループを抜ける(break)。\n",
    "- iより小さな全ての値（1は除く)で計算して、フラグがTrueのままであれば素数と判定できる。\n",
    "- 素数であればnumbersに追加する\n"
   ]
  },
  {
   "cell_type": "code",
   "execution_count": null,
   "metadata": {
    "tags": []
   },
   "outputs": [],
   "source": [
    "# 素数ではないと判定できた時点でforループを抜ける処理を追加する（break)。\n",
    "def get_prime_numbers2(max_val):\n",
    "    # 空のリストの初期化\n",
    "    numbers = []\n",
    "\n",
    "    # 繰り返し\n",
    "    for i in range(1, max_val + 1):\n",
    "        flag = True # 素数判定フラグ\n",
    "        # 割って余りの確認\n",
    "        for j in range(2,i):\n",
    "            if i % j == 0:\n",
    "                flag = False\n",
    "                break  # 素数ではないと判明したので、forループを抜ける\n",
    "        # 素数の場合\n",
    "        if flag == True:\n",
    "            numbers.append(i)\n",
    "    \n",
    "    return numbers"
   ]
  },
  {
   "cell_type": "code",
   "execution_count": null,
   "metadata": {},
   "outputs": [],
   "source": [
    "%%time\n",
    "numbers = get_prime_numbers2(10)\n",
    "print(numbers)"
   ]
  },
  {
   "cell_type": "code",
   "execution_count": null,
   "metadata": {},
   "outputs": [],
   "source": [
    "%%time\n",
    "numbers = get_prime_numbers2(100)\n",
    "print(numbers)"
   ]
  },
  {
   "cell_type": "code",
   "execution_count": null,
   "metadata": {},
   "outputs": [],
   "source": [
    "%%time\n",
    "numbers = get_prime_numbers2(1000)\n",
    "print(numbers)"
   ]
  },
  {
   "cell_type": "code",
   "execution_count": null,
   "metadata": {},
   "outputs": [],
   "source": [
    "%%time\n",
    "numbers = get_prime_numbers2(10000)\n",
    "print(numbers)"
   ]
  },
  {
   "cell_type": "code",
   "execution_count": null,
   "metadata": {
    "tags": []
   },
   "outputs": [],
   "source": [
    "%matplotlib inline\n",
    "import matplotlib.pyplot as plt"
   ]
  },
  {
   "cell_type": "code",
   "execution_count": null,
   "metadata": {
    "scrolled": true
   },
   "outputs": [],
   "source": [
    "## max_vals = [10,100,1000,10000]\n",
    "# max_valsをlog対数変換する（matplotを見やすくするため）\n",
    "# 片対数グラフ\n",
    "max_vals = [1,2,3,4]\n",
    "times1 = [57.9*1e-6, 358.0*1e-6,  27.2*1e-3, 2.55]\n",
    "times2 = [259*1e-6, 190.0*1e-6,  5.92*1e-3, 320*1e-3]\n",
    "\n",
    "plt.scatter(max_vals, times1, label='algorithm1')\n",
    "plt.scatter(max_vals, times2, label='algorithm2')\n",
    "plt.legend()"
   ]
  },
  {
   "cell_type": "markdown",
   "metadata": {},
   "source": [
    "**プログラム高速化2  \n",
    "    - 例えば10のとき、前回は、2,3,4,5,6,7,8,9で割り算して、あまりをチェックしていた。  \n",
    "    - しかし、上記の'2'で割るのであれば、'4'は既に必要ないのではということに着目する。  \n",
    "    - 同じように、'3'で割るのだから、'6'は必要ないのではと考える。  \n",
    "    - もし一つでも余りが０となっていれば、割り切れているので、素数ではない。      \n",
    "    - 全て余りが０でなければ素数である。  "
   ]
  },
  {
   "cell_type": "markdown",
   "metadata": {},
   "source": [
    "- 素数を格納するnumbersというからのリストで初期化する\n",
    "- iを1〜10000まで繰り返す\n",
    "\n",
    "    - 素数判定フラグをTrueに初期化する\n",
    "    - jをnumbers(既に持っている素数のリスト）で割り切れたら、フラグをFalseにセットして、その時点でforループを抜ける(break)。\n",
    "    - iより小さな全ての値（1は除く)で計算して、フラグがTrueのままであれば素数と判定できる。\n",
    "    - 素数であればnumbersに追加する\n"
   ]
  },
  {
   "cell_type": "code",
   "execution_count": null,
   "metadata": {},
   "outputs": [],
   "source": [
    "%%time\n",
    "def get_prime_numbers3(max_val):\n",
    "    # 空のリストの初期化\n",
    "    numbers = []\n",
    "\n",
    "    # 繰り返し\n",
    "    for i in range(2, max_val + 1):\n",
    "        flag = True # 素数判定フラグ\n",
    "        # 割って余りの確認\n",
    "        # for j in range(2,i):\n",
    "        for j in numbers:\n",
    "            if i % j == 0:\n",
    "                flag = False\n",
    "        # 素数の場合\n",
    "        if flag == True:\n",
    "            numbers.append(i)\n",
    "    \n",
    "    numbers.insert(0,1)\n",
    "    return numbers"
   ]
  },
  {
   "cell_type": "code",
   "execution_count": null,
   "metadata": {},
   "outputs": [],
   "source": [
    "%%time\n",
    "numbers = get_prime_numbers3(10)\n",
    "print(numbers)"
   ]
  },
  {
   "cell_type": "code",
   "execution_count": null,
   "metadata": {},
   "outputs": [],
   "source": [
    "%%time\n",
    "numbers = get_prime_numbers3(100)\n",
    "print(numbers)"
   ]
  },
  {
   "cell_type": "code",
   "execution_count": null,
   "metadata": {},
   "outputs": [],
   "source": [
    "%%time\n",
    "numbers = get_prime_numbers3(1000)\n",
    "print(numbers)"
   ]
  },
  {
   "cell_type": "code",
   "execution_count": null,
   "metadata": {},
   "outputs": [],
   "source": [
    "%%time\n",
    "numbers = get_prime_numbers3(10000)\n",
    "print(numbers)"
   ]
  },
  {
   "cell_type": "code",
   "execution_count": null,
   "metadata": {
    "scrolled": true
   },
   "outputs": [],
   "source": [
    "## max_vals = [10,100,1000,10000]\n",
    "# max_valsをlog対数変換する（matplotを見やすくするため）\n",
    "# 片対数グラフ\n",
    "max_vals = [1,2,3,4]\n",
    "times1 = [57.9*1e-6, 358.0*1e-6,  27.2*1e-3, 2.55]\n",
    "times2 = [259*1e-6, 190.0*1e-6,  5.92*1e-3, 320*1e-3]\n",
    "times3 = [99.2*1e-6, 455*1e-6, 5.66*1e-3, 289*1e-3]\n",
    "\n",
    "plt.scatter(max_vals, times1, label='algorithm1')\n",
    "plt.scatter(max_vals, times2, label='algorithm2')\n",
    "plt.scatter(max_vals, times3, label='algorithm3')\n",
    "plt.legend()"
   ]
  }
 ],
 "metadata": {
  "kernelspec": {
   "display_name": "Python 3 (ipykernel)",
   "language": "python",
   "name": "python3"
  },
  "language_info": {
   "codemirror_mode": {
    "name": "ipython",
    "version": 3
   },
   "file_extension": ".py",
   "mimetype": "text/x-python",
   "name": "python",
   "nbconvert_exporter": "python",
   "pygments_lexer": "ipython3",
   "version": "3.7.12"
  }
 },
 "nbformat": 4,
 "nbformat_minor": 4
}
